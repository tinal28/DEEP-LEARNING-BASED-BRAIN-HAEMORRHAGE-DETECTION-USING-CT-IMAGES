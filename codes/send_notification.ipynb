{
 "cells": [
  {
   "cell_type": "code",
   "execution_count": 79,
   "metadata": {},
   "outputs": [],
   "source": [
    "import time\n",
    "import os\n",
    "from platform import system\n",
    "import pyautogui as pg\n",
    "import webbrowser as web\n",
    "from urllib.parse import quote"
   ]
  },
  {
   "cell_type": "code",
   "execution_count": 80,
   "metadata": {},
   "outputs": [],
   "source": [
    "class CountryCodeException(Exception):\n",
    "    \"\"\"\n",
    "    Country Code is not present in the Phone Number\n",
    "    \"\"\"\n",
    "\n",
    "    pass"
   ]
  },
  {
   "cell_type": "code",
   "execution_count": 81,
   "metadata": {},
   "outputs": [],
   "source": [
    "def check_number(number: str) -> bool:\n",
    "    \"\"\"Checks the Number to see if contains the Country Code\"\"\"\n",
    "\n",
    "    return \"+\" in number or \"_\" in number\n"
   ]
  },
  {
   "cell_type": "code",
   "execution_count": 82,
   "metadata": {},
   "outputs": [],
   "source": [
    "def close_tab(wait_time: int = 2) -> None:\n",
    "    \"\"\"Closes the Currently Opened Browser Tab\"\"\"\n",
    "\n",
    "    time.sleep(wait_time)\n",
    "    if system().lower() in (\"windows\", \"linux\"):\n",
    "        pg.hotkey(\"ctrl\", \"w\")\n",
    "    elif system().lower() == \"darwin\":\n",
    "        pg.hotkey(\"command\", \"w\")\n",
    "    else:\n",
    "        raise Warning(f\"{system().lower()} not supported!\")\n",
    "    pg.press(\"enter\")\n"
   ]
  },
  {
   "cell_type": "code",
   "execution_count": 83,
   "metadata": {},
   "outputs": [],
   "source": [
    "def format_message(message: str) -> str:\n",
    "    \"\"\"Formats the Message to remove redundant Spaces and Newline chars\"\"\"\n",
    "    msg_l = message.split(\" \")\n",
    "    new = []\n",
    "    for x in msg_l:\n",
    "        if \"\\n\" in x:\n",
    "            x = x.replace(\"\\n\", \"\")\n",
    "            new.append(x) if not len(x) == 0 else None\n",
    "\n",
    "        elif len(x) != 0:\n",
    "            new.append(x)\n",
    "\n",
    "    return \" \".join(new)"
   ]
  },
  {
   "cell_type": "code",
   "execution_count": 84,
   "metadata": {},
   "outputs": [],
   "source": [
    "def log_message(_time: time.struct_time, receiver: str, message: str) -> None:\n",
    "    \"\"\"Logs the Message Information after it is Sent\"\"\"\n",
    "\n",
    "    if not os.path.exists(\"PyWhatKit_DB.txt\"):\n",
    "        file = open(\"PyWhatKit_DB.txt\", \"w+\")\n",
    "        file.close()\n",
    "\n",
    "    message = format_message(message)\n",
    "\n",
    "    with open(\"PyWhatKit_DB.txt\", \"a\", encoding=\"utf-8\") as file:\n",
    "        if check_number(receiver):\n",
    "            file.write(\n",
    "                f\"Date: {_time.tm_mday}/{_time.tm_mon}/{_time.tm_year}\\nTime: {_time.tm_hour}:{_time.tm_min}\\n\"\n",
    "                f\"Phone Number: {receiver}\\nMessage: {message}\"\n",
    "            )\n",
    "        else:\n",
    "            file.write(\n",
    "                f\"Date: {_time.tm_mday}/{_time.tm_mon}/{_time.tm_year}\\nTime: {_time.tm_hour}:{_time.tm_min}\\n\"\n",
    "                f\"Group ID: {receiver}\\nMessage: {message}\"\n",
    "            )\n",
    "        file.write(\"\\n--------------------\\n\")\n",
    "        file.close()\n"
   ]
  },
  {
   "cell_type": "code",
   "execution_count": 85,
   "metadata": {},
   "outputs": [],
   "source": [
    "\n",
    "def sendwhatmsg_instantly(\n",
    "    phone_no: str,\n",
    "    message: str,\n",
    "    wait_time: int = 15,\n",
    "    tab_close: bool = True,\n",
    "    close_time: int = 3,\n",
    ") -> None:\n",
    "    \"\"\"Send WhatsApp Message Instantly\"\"\"\n",
    "\n",
    "    if not check_number(number=phone_no):\n",
    "        raise CountryCodeException(\"Country Code Missing in Phone Number!\")\n",
    "\n",
    "    web.open(f\"https://web.whatsapp.com/send?phone={phone_no}&text={quote(message)}\")\n",
    "    time.sleep(10)\n",
    "    width,height=pg.size()\n",
    "    pg.click(width / 2, height / 2)\n",
    "    time.sleep(4)\n",
    "    pg.press(\"enter\")\n",
    "    log_message(_time=time.localtime(), receiver=phone_no, message=message)\n",
    "    if tab_close:\n",
    "        close_tab(wait_time=close_time)\n"
   ]
  },
  {
   "cell_type": "code",
   "execution_count": 86,
   "metadata": {},
   "outputs": [],
   "source": [
    "sendwhatmsg_instantly(\"+94712794859\",\"this is an automated message\",15)"
   ]
  }
 ],
 "metadata": {
  "kernelspec": {
   "display_name": "Python 3",
   "language": "python",
   "name": "python3"
  },
  "language_info": {
   "codemirror_mode": {
    "name": "ipython",
    "version": 3
   },
   "file_extension": ".py",
   "mimetype": "text/x-python",
   "name": "python",
   "nbconvert_exporter": "python",
   "pygments_lexer": "ipython3",
   "version": "3.11.4"
  }
 },
 "nbformat": 4,
 "nbformat_minor": 2
}
